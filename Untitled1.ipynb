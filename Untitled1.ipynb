{
 "cells": [
  {
   "cell_type": "code",
   "execution_count": null,
   "id": "731e9271",
   "metadata": {},
   "outputs": [],
   "source": [
    "import pandas as pd\n",
    "%matplotlib inline\n",
    "nsdk = pd.read_csv('NASDAQ_processed.csv')\n",
    "nikkei = pd.read_csv('Nikkei_processed.csv')\n",
    "szzs = pd.read_csv('SZZS_processed.csv')\n",
    "szqz = pd.read_csv('SZQZ_processed.csv')\n",
    "\n",
    "summary_df1 = pd.merge(nsdk, nikkei, on = ['Date'], how = 'outer')\n",
    "summary_df2 = pd.merge(szzs, szqz, on = ['Date'], how = 'outer')\n",
    "summary_df1['Date'] = pd.to_datetime(summary_df1['Date'])\n",
    "summary_df2['Date'] = pd.to_datetime(summary_df2['Date'])\n",
    "summary_df = pd.merge(summary_df1, summary_df2, on = ['Date'], how = 'outer')\n",
    "summary_df['Date'] = pd.to_datetime(summary_df['Date'])  \n",
    "summary_df.sort_values('Date')\n"
   ]
  },
  {
   "cell_type": "code",
   "execution_count": null,
   "id": "307c3bee",
   "metadata": {},
   "outputs": [],
   "source": []
  },
  {
   "cell_type": "code",
   "execution_count": null,
   "id": "19dfb3eb",
   "metadata": {},
   "outputs": [],
   "source": []
  },
  {
   "cell_type": "code",
   "execution_count": null,
   "id": "02147b37",
   "metadata": {},
   "outputs": [],
   "source": []
  },
  {
   "cell_type": "code",
   "execution_count": null,
   "id": "bac2df34",
   "metadata": {},
   "outputs": [],
   "source": []
  },
  {
   "cell_type": "code",
   "execution_count": null,
   "id": "0e1c7902",
   "metadata": {},
   "outputs": [],
   "source": []
  },
  {
   "cell_type": "code",
   "execution_count": null,
   "id": "4c0be920",
   "metadata": {},
   "outputs": [],
   "source": []
  }
 ],
 "metadata": {
  "kernelspec": {
   "display_name": "Python 3",
   "language": "python",
   "name": "python3"
  },
  "language_info": {
   "codemirror_mode": {
    "name": "ipython",
    "version": 3
   },
   "file_extension": ".py",
   "mimetype": "text/x-python",
   "name": "python",
   "nbconvert_exporter": "python",
   "pygments_lexer": "ipython3",
   "version": "3.8.10"
  }
 },
 "nbformat": 4,
 "nbformat_minor": 5
}
